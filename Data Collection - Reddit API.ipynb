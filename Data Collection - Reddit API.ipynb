{
 "cells": [
  {
   "cell_type": "markdown",
   "id": "a137309a",
   "metadata": {},
   "source": [
    "This file contains the walkthrough of how we extracted data from Reddit API."
   ]
  },
  {
   "cell_type": "code",
   "execution_count": 1,
   "id": "76ef4c03",
   "metadata": {},
   "outputs": [],
   "source": [
    "# Import packages\n",
    "import requests\n",
    "import pandas as pd\n",
    "import time\n",
    "import random"
   ]
  },
  {
   "cell_type": "code",
   "execution_count": 2,
   "id": "6c8adaca",
   "metadata": {},
   "outputs": [],
   "source": [
    "# Create 10 different User-Agent to bypass Reddit's blocking behaviour\n",
    "\n",
    "accounts = [\n",
    "    {'User-Agent': 'JohnHanWeiBot/0.1.1'},\n",
    "    {'User-Agent': 'AutotestBot/0.1.1'},\n",
    "    {'User-Agent': 'JohnTestingBot/0.1.1'},\n",
    "    {'User-Agent': 'Johnthenumber4/0.1.1'},\n",
    "    {'User-Agent': 'Johnthenumber4/0.1.1'},\n",
    "    {'User-Agent': 'number5useragent4/0.1.1'},\n",
    "    {'User-Agent': 'anotherdifferentuser4/0.1.1'},\n",
    "    {'User-Agent': 'agentagain4/0.1.1'},\n",
    "    {'User-Agent': 'testagain4/0.1.1'},\n",
    "    {'User-Agent': 'ageqweain4/0.1.1'},\n",
    "    {'User-Agent': 'agpterain4/0.1.1'},\n",
    "    {'User-Agent': 'agentagangn4/0.1.1'},\n",
    "]"
   ]
  },
  {
   "cell_type": "markdown",
   "id": "949dd23e",
   "metadata": {},
   "source": [
    "### r/wallstreetbets"
   ]
  },
  {
   "cell_type": "code",
   "execution_count": 24,
   "id": "05c768fd",
   "metadata": {},
   "outputs": [],
   "source": [
    "url = 'https://www.reddit.com/r/wallstreetbets/new.json'"
   ]
  },
  {
   "cell_type": "code",
   "execution_count": 25,
   "id": "79e892c1",
   "metadata": {},
   "outputs": [
    {
     "name": "stdout",
     "output_type": "stream",
     "text": [
      "https://www.reddit.com/r/wallstreetbets/new.json\n",
      "{'User-Agent': 'JohnHanWeiBot/0.1.1'}\n",
      "3\n",
      "https://www.reddit.com/r/wallstreetbets/new.json?after=t3_o6hin1\n",
      "{'User-Agent': 'AutotestBot/0.1.1'}\n",
      "3\n",
      "https://www.reddit.com/r/wallstreetbets/new.json?after=t3_o62sor\n",
      "{'User-Agent': 'JohnTestingBot/0.1.1'}\n",
      "4\n",
      "https://www.reddit.com/r/wallstreetbets/new.json?after=t3_o5ps9h\n",
      "{'User-Agent': 'Johnthenumber4/0.1.1'}\n",
      "5\n",
      "https://www.reddit.com/r/wallstreetbets/new.json?after=t3_o53nyp\n",
      "{'User-Agent': 'Johnthenumber4/0.1.1'}\n",
      "3\n"
     ]
    }
   ],
   "source": [
    "# Extract reddit data into list\n",
    "\n",
    "posts = []\n",
    "after = None\n",
    "\n",
    "for a in range(10):\n",
    "    if after == None:\n",
    "        current_url = url\n",
    "    else:\n",
    "        current_url = url + '?after=' + after\n",
    "    print(current_url)\n",
    "    res = requests.get(\n",
    "        current_url,\n",
    "        headers = accounts[a],\n",
    "        params={'limit' :100})\n",
    "    print(accounts[a])\n",
    "    if res.status_code != 200:\n",
    "        print('Status error', res.status_code)\n",
    "        break\n",
    "    \n",
    "    current_dict = res.json()\n",
    "    current_posts = [p['data'] for p in current_dict['data']['children']]\n",
    "    posts.extend(current_posts)\n",
    "    after = current_dict['data']['after']\n",
    "\n",
    "    \n",
    "    #generate a random sleep duration to look more 'natural'\n",
    "    sleep_duration = random.randint(2,5)\n",
    "    print(sleep_duration)\n",
    "    time.sleep(sleep_duration)"
   ]
  },
  {
   "cell_type": "code",
   "execution_count": 26,
   "id": "53dcf1b6",
   "metadata": {},
   "outputs": [],
   "source": [
    "df = pd.DataFrame(posts)"
   ]
  },
  {
   "cell_type": "code",
   "execution_count": 27,
   "id": "37b3aff6",
   "metadata": {},
   "outputs": [
    {
     "data": {
      "text/plain": [
       "(500, 109)"
      ]
     },
     "execution_count": 27,
     "metadata": {},
     "output_type": "execute_result"
    }
   ],
   "source": [
    "df.shape"
   ]
  },
  {
   "cell_type": "code",
   "execution_count": 31,
   "id": "271ba928",
   "metadata": {},
   "outputs": [],
   "source": [
    "# drop duplicates if any\n",
    "df.drop_duplicates(subset=['title'], inplace = True)"
   ]
  },
  {
   "cell_type": "code",
   "execution_count": 3,
   "id": "d9cc3a3e",
   "metadata": {},
   "outputs": [],
   "source": [
    "# Open existing dataset\n",
    "wsb = pd.read_csv('wsb.csv')"
   ]
  },
  {
   "cell_type": "code",
   "execution_count": 29,
   "id": "70ec1a48",
   "metadata": {},
   "outputs": [
    {
     "data": {
      "text/plain": [
       "(1725, 110)"
      ]
     },
     "execution_count": 29,
     "metadata": {},
     "output_type": "execute_result"
    }
   ],
   "source": [
    "wsb.shape"
   ]
  },
  {
   "cell_type": "code",
   "execution_count": 4,
   "id": "140d1801",
   "metadata": {},
   "outputs": [],
   "source": [
    "# Clean column, csv quirk\n",
    "wsb.drop(labels = 'Unnamed: 0',axis=1, inplace = True)"
   ]
  },
  {
   "cell_type": "code",
   "execution_count": 32,
   "id": "338e1c60",
   "metadata": {},
   "outputs": [],
   "source": [
    "# Concat new data with existing dataset\n",
    "combine = pd.concat([df, wsb], axis = 0)"
   ]
  },
  {
   "cell_type": "code",
   "execution_count": 33,
   "id": "c8499ef8",
   "metadata": {},
   "outputs": [],
   "source": [
    "# Remove duplicates\n",
    "combine.drop_duplicates(subset=['title'],inplace = True)"
   ]
  },
  {
   "cell_type": "code",
   "execution_count": 34,
   "id": "ca2c4905",
   "metadata": {
    "scrolled": true
   },
   "outputs": [
    {
     "data": {
      "text/plain": [
       "(1789, 109)"
      ]
     },
     "execution_count": 34,
     "metadata": {},
     "output_type": "execute_result"
    }
   ],
   "source": [
    "combine.shape"
   ]
  },
  {
   "cell_type": "code",
   "execution_count": 35,
   "id": "4ba821fb",
   "metadata": {},
   "outputs": [],
   "source": [
    "# Save to csv\n",
    "combine.to_csv('wsb.csv')"
   ]
  },
  {
   "cell_type": "code",
   "execution_count": null,
   "id": "d712124e",
   "metadata": {},
   "outputs": [],
   "source": []
  },
  {
   "cell_type": "markdown",
   "id": "65c1728c",
   "metadata": {},
   "source": [
    "### r/ValueInvesting"
   ]
  },
  {
   "cell_type": "code",
   "execution_count": 36,
   "id": "38689d80",
   "metadata": {},
   "outputs": [],
   "source": [
    "url = 'https://www.reddit.com/r/ValueInvesting.json'"
   ]
  },
  {
   "cell_type": "code",
   "execution_count": 5,
   "id": "185c71d4",
   "metadata": {},
   "outputs": [
    {
     "ename": "NameError",
     "evalue": "name 'url' is not defined",
     "output_type": "error",
     "traceback": [
      "\u001b[1;31m---------------------------------------------------------------------------\u001b[0m",
      "\u001b[1;31mNameError\u001b[0m                                 Traceback (most recent call last)",
      "\u001b[1;32m<ipython-input-5-08bc12728f80>\u001b[0m in \u001b[0;36m<module>\u001b[1;34m\u001b[0m\n\u001b[0;32m      4\u001b[0m \u001b[1;32mfor\u001b[0m \u001b[0ma\u001b[0m \u001b[1;32min\u001b[0m \u001b[0mrange\u001b[0m\u001b[1;33m(\u001b[0m\u001b[1;36m5\u001b[0m\u001b[1;33m)\u001b[0m\u001b[1;33m:\u001b[0m\u001b[1;33m\u001b[0m\u001b[1;33m\u001b[0m\u001b[0m\n\u001b[0;32m      5\u001b[0m     \u001b[1;32mif\u001b[0m \u001b[0mafter\u001b[0m \u001b[1;33m==\u001b[0m \u001b[1;32mNone\u001b[0m\u001b[1;33m:\u001b[0m\u001b[1;33m\u001b[0m\u001b[1;33m\u001b[0m\u001b[0m\n\u001b[1;32m----> 6\u001b[1;33m         \u001b[0mcurrent_url\u001b[0m \u001b[1;33m=\u001b[0m \u001b[0murl\u001b[0m\u001b[1;33m\u001b[0m\u001b[1;33m\u001b[0m\u001b[0m\n\u001b[0m\u001b[0;32m      7\u001b[0m     \u001b[1;32melse\u001b[0m\u001b[1;33m:\u001b[0m\u001b[1;33m\u001b[0m\u001b[1;33m\u001b[0m\u001b[0m\n\u001b[0;32m      8\u001b[0m         \u001b[0mcurrent_url\u001b[0m \u001b[1;33m=\u001b[0m \u001b[0murl\u001b[0m \u001b[1;33m+\u001b[0m \u001b[1;34m'?after='\u001b[0m \u001b[1;33m+\u001b[0m \u001b[0mafter\u001b[0m\u001b[1;33m\u001b[0m\u001b[1;33m\u001b[0m\u001b[0m\n",
      "\u001b[1;31mNameError\u001b[0m: name 'url' is not defined"
     ]
    }
   ],
   "source": [
    "# Extract reddit data into list\n",
    "\n",
    "posts = []\n",
    "after = None\n",
    "\n",
    "for a in range(5):\n",
    "    if after == None:\n",
    "        current_url = url\n",
    "    else:\n",
    "        current_url = url + '?after=' + after\n",
    "    print(current_url)\n",
    "    res = requests.get(\n",
    "        current_url,\n",
    "        headers = accounts[a],\n",
    "        params={'limit' :100})\n",
    "    print(accounts[a])\n",
    "    if res.status_code != 200:\n",
    "        print('Status error', res.status_code)\n",
    "        break\n",
    "    \n",
    "    current_dict = res.json()\n",
    "    current_posts = [p['data'] for p in current_dict['data']['children']]\n",
    "    posts.extend(current_posts)\n",
    "    after = current_dict['data']['after']\n",
    "\n",
    "    \n",
    "    #generate a random sleep duration to look more 'natural'\n",
    "    sleep_duration = random.randint(1,4)\n",
    "    print(sleep_duration)\n",
    "    time.sleep(sleep_duration)"
   ]
  },
  {
   "cell_type": "code",
   "execution_count": 38,
   "id": "5b5a607f",
   "metadata": {},
   "outputs": [],
   "source": [
    "df = pd.DataFrame(posts)"
   ]
  },
  {
   "cell_type": "code",
   "execution_count": 39,
   "id": "79a32665",
   "metadata": {},
   "outputs": [
    {
     "data": {
      "text/plain": [
       "(501, 111)"
      ]
     },
     "execution_count": 39,
     "metadata": {},
     "output_type": "execute_result"
    }
   ],
   "source": [
    "df.shape"
   ]
  },
  {
   "cell_type": "code",
   "execution_count": 40,
   "id": "dec1b2f9",
   "metadata": {},
   "outputs": [],
   "source": [
    "value = pd.read_csv('valueinvesting.csv')"
   ]
  },
  {
   "cell_type": "code",
   "execution_count": 41,
   "id": "6327181a",
   "metadata": {},
   "outputs": [],
   "source": [
    "value.drop('Unnamed: 0', axis = 1,inplace = True)"
   ]
  },
  {
   "cell_type": "code",
   "execution_count": 48,
   "id": "1cff140e",
   "metadata": {},
   "outputs": [
    {
     "data": {
      "text/plain": [
       "(1049, 111)"
      ]
     },
     "execution_count": 48,
     "metadata": {},
     "output_type": "execute_result"
    }
   ],
   "source": [
    "value.shape"
   ]
  },
  {
   "cell_type": "code",
   "execution_count": 49,
   "id": "085d991d",
   "metadata": {},
   "outputs": [],
   "source": [
    "# Concat new data with existing dataset\n",
    "combine = pd.concat([df, value], axis = 0)"
   ]
  },
  {
   "cell_type": "code",
   "execution_count": 50,
   "id": "d9e36b61",
   "metadata": {},
   "outputs": [],
   "source": [
    "# drop duplicates if any\n",
    "combine.drop_duplicates(subset=['title'],inplace = True)"
   ]
  },
  {
   "cell_type": "code",
   "execution_count": 51,
   "id": "d0f53866",
   "metadata": {},
   "outputs": [
    {
     "data": {
      "text/plain": [
       "(1070, 111)"
      ]
     },
     "execution_count": 51,
     "metadata": {},
     "output_type": "execute_result"
    }
   ],
   "source": [
    "combine.shape"
   ]
  },
  {
   "cell_type": "code",
   "execution_count": 52,
   "id": "8294fe0f",
   "metadata": {},
   "outputs": [],
   "source": [
    "# Save to csv\n",
    "combine.to_csv('valueinvesting.csv')"
   ]
  },
  {
   "cell_type": "code",
   "execution_count": null,
   "id": "6718f9fd",
   "metadata": {},
   "outputs": [],
   "source": []
  }
 ],
 "metadata": {
  "kernelspec": {
   "display_name": "Python 3",
   "language": "python",
   "name": "python3"
  },
  "language_info": {
   "codemirror_mode": {
    "name": "ipython",
    "version": 3
   },
   "file_extension": ".py",
   "mimetype": "text/x-python",
   "name": "python",
   "nbconvert_exporter": "python",
   "pygments_lexer": "ipython3",
   "version": "3.8.8"
  }
 },
 "nbformat": 4,
 "nbformat_minor": 5
}
